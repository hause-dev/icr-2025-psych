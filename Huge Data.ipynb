{
 "cells": [
  {
   "cell_type": "code",
   "execution_count": 367,
   "id": "522de17e-1d14-4750-87b9-d95cb5642ee0",
   "metadata": {},
   "outputs": [],
   "source": [
    "import numpy as np\n",
    "import pandas as pd\n",
    "import matplotlib.pyplot as plt\n",
    "from sklearn.model_selection import train_test_split\n",
    "from sklearn.svm import SVC\n",
    "from sklearn.metrics import classification_report\n",
    "from sklearn import svm\n",
    "from sklearn.datasets import make_blobs\n",
    "from sklearn.inspection import DecisionBoundaryDisplay\n",
    "from sklearn.metrics import confusion_matrix\n",
    "from sklearn.metrics import roc_curve, auc\n",
    "from sklearn.preprocessing import StandardScaler\n",
    "from sklearn.neighbors import KNeighborsClassifier\n",
    "from sklearn.ensemble import RandomForestClassifier\n",
    "from sklearn.linear_model import LogisticRegression\n",
    "from sklearn.linear_model import ElasticNet\n",
    "from sklearn.metrics import mean_absolute_error, mean_squared_error, r2_score\n",
    "import xgboost as xgb"
   ]
  },
  {
   "cell_type": "code",
   "execution_count": 426,
   "id": "e4ef7551-1404-4fb7-9c92-139084eebd4c",
   "metadata": {},
   "outputs": [],
   "source": [
    "# Load in your data here\n",
    "data = pd.read_csv(\"OCDhc_allPSD.csv\") #file name here\n"
   ]
  },
  {
   "cell_type": "code",
   "execution_count": 427,
   "id": "759a65c2-cbbf-4c12-b4f9-99cb122bdb07",
   "metadata": {},
   "outputs": [],
   "source": [
    "# Data preprocessing\n",
    "X = data.drop('114', axis=1)\n",
    "y = data['114']\n",
    "X_train, X_test, y_train, y_test = train_test_split(X, y, test_size=0.20)"
   ]
  },
  {
   "cell_type": "code",
   "execution_count": 428,
   "id": "69cabdf9-2092-402d-8675-6245b7a83967",
   "metadata": {},
   "outputs": [],
   "source": [
    "# PCA data\n",
    "from sklearn.decomposition import PCA\n",
    "pca = PCA(0.95)\n",
    "X_pca = pca.fit_transform(X)\n",
    "X_pca.shape\n",
    "X_train_pca, X_test_pca, y_train, y_test = train_test_split(X_pca, y, test_size=0.2, random_state=30)"
   ]
  },
  {
   "cell_type": "markdown",
   "id": "e8880233-ded7-4169-948f-7a33fc5bcf3c",
   "metadata": {},
   "source": [
    "# XGB Values"
   ]
  },
  {
   "cell_type": "code",
   "execution_count": 429,
   "id": "b5e29807-cfd8-4c71-968a-add6b4fee3ba",
   "metadata": {},
   "outputs": [
    {
     "name": "stdout",
     "output_type": "stream",
     "text": [
      "[0]\tvalidation_0-logloss:0.69336\n",
      "[1]\tvalidation_0-logloss:0.73048\n",
      "[2]\tvalidation_0-logloss:0.77505\n",
      "XGB accuracy: 0.6206896551724138\n",
      "XGB Classification report:\n",
      "               precision    recall  f1-score   support\n",
      "\n",
      "           0       0.62      1.00      0.77        18\n",
      "           1       0.00      0.00      0.00        11\n",
      "\n",
      "    accuracy                           0.62        29\n",
      "   macro avg       0.31      0.50      0.38        29\n",
      "weighted avg       0.39      0.62      0.48        29\n",
      "\n",
      "XGB AUC value: 0.5883838383838385\n",
      "[0]\tvalidation_0-logloss:0.70807\n",
      "[1]\tvalidation_0-logloss:0.75165\n",
      "\n",
      "XGB accuracy for PCA: 0.6206896551724138\n",
      "XGB classification report for PCA:\n",
      "               precision    recall  f1-score   support\n",
      "\n",
      "           0       0.62      1.00      0.77        18\n",
      "           1       0.00      0.00      0.00        11\n",
      "\n",
      "    accuracy                           0.62        29\n",
      "   macro avg       0.31      0.50      0.38        29\n",
      "weighted avg       0.39      0.62      0.48        29\n",
      "\n",
      "XBG AUC for PCA: 0.43686868686868685\n"
     ]
    },
    {
     "name": "stderr",
     "output_type": "stream",
     "text": [
      "/home/novo/miniforge3/lib/python3.13/site-packages/sklearn/metrics/_classification.py:1706: UndefinedMetricWarning: Precision is ill-defined and being set to 0.0 in labels with no predicted samples. Use `zero_division` parameter to control this behavior.\n",
      "  _warn_prf(average, modifier, f\"{metric.capitalize()} is\", result.shape[0])\n",
      "/home/novo/miniforge3/lib/python3.13/site-packages/sklearn/metrics/_classification.py:1706: UndefinedMetricWarning: Precision is ill-defined and being set to 0.0 in labels with no predicted samples. Use `zero_division` parameter to control this behavior.\n",
      "  _warn_prf(average, modifier, f\"{metric.capitalize()} is\", result.shape[0])\n",
      "/home/novo/miniforge3/lib/python3.13/site-packages/sklearn/metrics/_classification.py:1706: UndefinedMetricWarning: Precision is ill-defined and being set to 0.0 in labels with no predicted samples. Use `zero_division` parameter to control this behavior.\n",
      "  _warn_prf(average, modifier, f\"{metric.capitalize()} is\", result.shape[0])\n",
      "/home/novo/miniforge3/lib/python3.13/site-packages/sklearn/metrics/_classification.py:1706: UndefinedMetricWarning: Precision is ill-defined and being set to 0.0 in labels with no predicted samples. Use `zero_division` parameter to control this behavior.\n",
      "  _warn_prf(average, modifier, f\"{metric.capitalize()} is\", result.shape[0])\n",
      "/home/novo/miniforge3/lib/python3.13/site-packages/sklearn/metrics/_classification.py:1706: UndefinedMetricWarning: Precision is ill-defined and being set to 0.0 in labels with no predicted samples. Use `zero_division` parameter to control this behavior.\n",
      "  _warn_prf(average, modifier, f\"{metric.capitalize()} is\", result.shape[0])\n",
      "/home/novo/miniforge3/lib/python3.13/site-packages/sklearn/metrics/_classification.py:1706: UndefinedMetricWarning: Precision is ill-defined and being set to 0.0 in labels with no predicted samples. Use `zero_division` parameter to control this behavior.\n",
      "  _warn_prf(average, modifier, f\"{metric.capitalize()} is\", result.shape[0])\n"
     ]
    }
   ],
   "source": [
    "clf = xgb.XGBClassifier(tree_method=\"hist\", early_stopping_rounds=2)\n",
    "clf.fit(X_train, y_train, eval_set=[(X_test, y_test)])\n",
    "y_pred = clf.predict(X_test)\n",
    "print('XGB accuracy:',clf.score(X_test, y_test))\n",
    "print('XGB Classification report:\\n',classification_report(y_test, y_pred))\n",
    "y_scores = clf.predict_proba(X_test)[:, 1]\n",
    "fpr, tpr, thresholds = roc_curve(y_test, y_scores)\n",
    "roc_auc = auc(fpr, tpr)\n",
    "print('XGB AUC value:',roc_auc)\n",
    "pxgb = xgb.XGBClassifier(tree_method=\"hist\", early_stopping_rounds=2)\n",
    "pxgb.fit(X_train_pca, y_train, eval_set=[(X_test_pca, y_test)])\n",
    "print('\\nXGB accuracy for PCA:', pxgb.score(X_test_pca, y_test))\n",
    "y_pred = pxgb.predict(X_test_pca)\n",
    "print('XGB classification report for PCA:\\n',classification_report(y_test, y_pred))\n",
    "y_scores = pxgb.predict_proba(X_test_pca)[:, 1]\n",
    "fpr, tpr, thresholds = roc_curve(y_test, y_scores)\n",
    "roc_auc = auc(fpr, tpr)\n",
    "print('XBG AUC for PCA:', roc_auc)"
   ]
  },
  {
   "cell_type": "markdown",
   "id": "8e9fd1bb-75db-4eef-9aa6-a9cc57716bd8",
   "metadata": {},
   "source": [
    "# Elastic Net Values"
   ]
  },
  {
   "cell_type": "code",
   "execution_count": 430,
   "id": "0791a32c-3fe5-4913-9afc-1048f98de1a2",
   "metadata": {},
   "outputs": [
    {
     "name": "stdout",
     "output_type": "stream",
     "text": [
      "Mean absolute error: 0.4547413793103448\n",
      "Mean squared error: 0.23989762931034483\n",
      "r2 score: -0.018959122474747625\n",
      "\n",
      "Mean absolute error for PCA: 0.4547413793103448\n",
      "Mean squared error for PCA: 0.23989762931034483\n",
      "r2 score for PCA: -0.018959122474747625\n"
     ]
    }
   ],
   "source": [
    "scaler = StandardScaler()\n",
    "X_train = scaler.fit_transform(X_train)\n",
    "X_test = scaler.fit_transform(X_test)\n",
    "elastic_net = ElasticNet()\n",
    "elastic_net.fit(X_train, y_train)\n",
    "y_pred = elastic_net.predict(X_test)\n",
    "print('Mean absolute error:',mean_absolute_error(y_test, y_pred))\n",
    "print('Mean squared error:', mean_squared_error(y_test, y_pred))\n",
    "print('r2 score:', r2_score(y_test, y_pred))\n",
    "pcaX_train = scaler.fit_transform(X_train_pca)\n",
    "pcaX_test = scaler.fit_transform(X_test_pca)\n",
    "elastic_net = ElasticNet()\n",
    "elastic_net.fit(pcaX_train, y_train)\n",
    "y_pred = elastic_net.predict(pcaX_test)\n",
    "print('\\nMean absolute error for PCA:',mean_absolute_error(y_test, y_pred))\n",
    "print('Mean squared error for PCA:', mean_squared_error(y_test, y_pred))\n",
    "print('r2 score for PCA:', r2_score(y_test, y_pred))"
   ]
  },
  {
   "cell_type": "markdown",
   "id": "f7611bd8-c2ee-4252-84ab-51395b22b966",
   "metadata": {},
   "source": [
    "# SVM Values"
   ]
  },
  {
   "cell_type": "code",
   "execution_count": 431,
   "id": "c860794d-4af0-419b-a42e-a690dbf721f8",
   "metadata": {
    "scrolled": true
   },
   "outputs": [
    {
     "name": "stdout",
     "output_type": "stream",
     "text": [
      "SVM accuracy: 0.4482758620689655\n",
      "SVM classification report:\n",
      "               precision    recall  f1-score   support\n",
      "\n",
      "           0       0.56      0.56      0.56        18\n",
      "           1       0.27      0.27      0.27        11\n",
      "\n",
      "    accuracy                           0.45        29\n",
      "   macro avg       0.41      0.41      0.41        29\n",
      "weighted avg       0.45      0.45      0.45        29\n",
      "\n",
      "SVM AUC value: 0.5606060606060606\n",
      "\n",
      "SVM accuracy for PCA: 0.6206896551724138\n",
      "SVM classification report for PCA:\n",
      "               precision    recall  f1-score   support\n",
      "\n",
      "           0       0.62      1.00      0.77        18\n",
      "           1       0.00      0.00      0.00        11\n",
      "\n",
      "    accuracy                           0.62        29\n",
      "   macro avg       0.31      0.50      0.38        29\n",
      "weighted avg       0.39      0.62      0.48        29\n",
      "\n",
      "SVM AUC value for PCA: 0.3636363636363636\n"
     ]
    },
    {
     "name": "stderr",
     "output_type": "stream",
     "text": [
      "/home/novo/miniforge3/lib/python3.13/site-packages/sklearn/metrics/_classification.py:1706: UndefinedMetricWarning: Precision is ill-defined and being set to 0.0 in labels with no predicted samples. Use `zero_division` parameter to control this behavior.\n",
      "  _warn_prf(average, modifier, f\"{metric.capitalize()} is\", result.shape[0])\n",
      "/home/novo/miniforge3/lib/python3.13/site-packages/sklearn/metrics/_classification.py:1706: UndefinedMetricWarning: Precision is ill-defined and being set to 0.0 in labels with no predicted samples. Use `zero_division` parameter to control this behavior.\n",
      "  _warn_prf(average, modifier, f\"{metric.capitalize()} is\", result.shape[0])\n",
      "/home/novo/miniforge3/lib/python3.13/site-packages/sklearn/metrics/_classification.py:1706: UndefinedMetricWarning: Precision is ill-defined and being set to 0.0 in labels with no predicted samples. Use `zero_division` parameter to control this behavior.\n",
      "  _warn_prf(average, modifier, f\"{metric.capitalize()} is\", result.shape[0])\n"
     ]
    }
   ],
   "source": [
    "svclassifier = SVC(kernel='linear',probability=True)\n",
    "svclassifier.fit(X_train, y_train)\n",
    "y_pred = svclassifier.predict(X_test)\n",
    "print('SVM accuracy:', svclassifier.score(X_test, y_test))\n",
    "print('SVM classification report:\\n', classification_report(y_test, y_pred))\n",
    "y_scores = svclassifier.predict_proba(X_test)[:, 1]\n",
    "fpr, tpr, thresholds = roc_curve(y_test, y_scores)\n",
    "# Calculate AUC\n",
    "roc_auc = auc(fpr, tpr)\n",
    "print('SVM AUC value:', roc_auc)\n",
    "newsvm=SVC(kernel='linear', probability=True)\n",
    "newsvm.fit(X_train_pca, y_train)\n",
    "y_pred = newsvm.predict(X_test_pca)\n",
    "print('\\nSVM accuracy for PCA:', newsvm.score(X_test_pca, y_test))\n",
    "print('SVM classification report for PCA:\\n', classification_report(y_test, y_pred))\n",
    "y_scores = newsvm.predict_proba(X_test_pca)[:, 1]\n",
    "fpr, tpr, thresholds = roc_curve(y_test, y_scores)\n",
    "roc_auc = auc(fpr, tpr)\n",
    "print('SVM AUC value for PCA:', roc_auc)\n"
   ]
  },
  {
   "cell_type": "markdown",
   "id": "4509dc46-25f5-4e1a-8c61-58b3517de46d",
   "metadata": {},
   "source": [
    "# KNN Values"
   ]
  },
  {
   "cell_type": "code",
   "execution_count": 432,
   "id": "d8a9125f-a4e8-42fc-b30c-e596914e520c",
   "metadata": {},
   "outputs": [
    {
     "name": "stdout",
     "output_type": "stream",
     "text": [
      "KNN accuracy: 0.5862068965517241\n",
      "KNN classification report:\n",
      "               precision    recall  f1-score   support\n",
      "\n",
      "           0       0.61      0.94      0.74        18\n",
      "           1       0.00      0.00      0.00        11\n",
      "\n",
      "    accuracy                           0.59        29\n",
      "   macro avg       0.30      0.47      0.37        29\n",
      "weighted avg       0.38      0.59      0.46        29\n",
      "\n",
      "KNN AUC value: 0.44949494949494956\n",
      "\n",
      "KNN accuracy for PCA: 0.6206896551724138\n",
      "KNN classification report for PCA\n",
      "               precision    recall  f1-score   support\n",
      "\n",
      "           0       0.62      1.00      0.77        18\n",
      "           1       0.00      0.00      0.00        11\n",
      "\n",
      "    accuracy                           0.62        29\n",
      "   macro avg       0.31      0.50      0.38        29\n",
      "weighted avg       0.39      0.62      0.48        29\n",
      "\n",
      "KNN AUC value for PCA 0.6464646464646464\n"
     ]
    },
    {
     "name": "stderr",
     "output_type": "stream",
     "text": [
      "/home/novo/miniforge3/lib/python3.13/site-packages/sklearn/metrics/_classification.py:1706: UndefinedMetricWarning: Precision is ill-defined and being set to 0.0 in labels with no predicted samples. Use `zero_division` parameter to control this behavior.\n",
      "  _warn_prf(average, modifier, f\"{metric.capitalize()} is\", result.shape[0])\n",
      "/home/novo/miniforge3/lib/python3.13/site-packages/sklearn/metrics/_classification.py:1706: UndefinedMetricWarning: Precision is ill-defined and being set to 0.0 in labels with no predicted samples. Use `zero_division` parameter to control this behavior.\n",
      "  _warn_prf(average, modifier, f\"{metric.capitalize()} is\", result.shape[0])\n",
      "/home/novo/miniforge3/lib/python3.13/site-packages/sklearn/metrics/_classification.py:1706: UndefinedMetricWarning: Precision is ill-defined and being set to 0.0 in labels with no predicted samples. Use `zero_division` parameter to control this behavior.\n",
      "  _warn_prf(average, modifier, f\"{metric.capitalize()} is\", result.shape[0])\n"
     ]
    }
   ],
   "source": [
    "knn = KNeighborsClassifier(n_neighbors=10)\n",
    "knn.fit(X_train, y_train)\n",
    "print('KNN accuracy:', knn.score(X_test, y_test))\n",
    "y_pred = knn.predict(X_test)\n",
    "print('KNN classification report:\\n',classification_report(y_test, y_pred))\n",
    "y_scores = knn.predict_proba(X_test)[:, 1]\n",
    "fpr, tpr, thresholds = roc_curve(y_test, y_scores)\n",
    "roc_auc = auc(fpr, tpr)\n",
    "print('KNN AUC value:', roc_auc)\n",
    "knn = KNeighborsClassifier(n_neighbors=10)\n",
    "knn.fit(X_train_pca, y_train)\n",
    "print('\\nKNN accuracy for PCA:', knn.score(X_test_pca, y_test))\n",
    "y_pred = knn.predict(X_test_pca)\n",
    "print('KNN classification report for PCA\\n', classification_report(y_test, y_pred))\n",
    "y_scores = knn.predict_proba(X_test_pca)[:, 1]\n",
    "fpr, tpr, thresholds = roc_curve(y_test, y_scores)\n",
    "roc_auc = auc(fpr, tpr)\n",
    "print('KNN AUC value for PCA',roc_auc)"
   ]
  },
  {
   "cell_type": "markdown",
   "id": "1e6f21e9-589a-4422-8833-c91ba6816007",
   "metadata": {},
   "source": [
    "# Random Forest Values"
   ]
  },
  {
   "cell_type": "code",
   "execution_count": 433,
   "id": "753359a4-46ef-4be2-a601-69479dd4ea5a",
   "metadata": {},
   "outputs": [
    {
     "name": "stdout",
     "output_type": "stream",
     "text": [
      "Random Forest accuracy: 0.5517241379310345\n",
      "Random Forest classification report\n",
      "               precision    recall  f1-score   support\n",
      "\n",
      "           0       0.60      0.83      0.70        18\n",
      "           1       0.25      0.09      0.13        11\n",
      "\n",
      "    accuracy                           0.55        29\n",
      "   macro avg       0.42      0.46      0.42        29\n",
      "weighted avg       0.47      0.55      0.48        29\n",
      "\n",
      "Random Forest AUC value: 0.49242424242424243\n",
      "\n",
      "Random Forest accuracy for PCA: 0.41379310344827586\n",
      "Random Forest classification report for PCA:\n",
      "               precision    recall  f1-score   support\n",
      "\n",
      "           0       0.52      0.61      0.56        18\n",
      "           1       0.12      0.09      0.11        11\n",
      "\n",
      "    accuracy                           0.41        29\n",
      "   macro avg       0.32      0.35      0.33        29\n",
      "weighted avg       0.37      0.41      0.39        29\n",
      "\n",
      "Random Forest AUC value for PCA: 0.3560606060606061\n"
     ]
    }
   ],
   "source": [
    "model = RandomForestClassifier(n_estimators=40)\n",
    "model.fit(X_train, y_train)\n",
    "print('Random Forest accuracy:', model.score(X_test, y_test))\n",
    "y_pred = model.predict(X_test)\n",
    "print('Random Forest classification report\\n',classification_report(y_test, y_pred))\n",
    "y_scores = model.predict_proba(X_test)[:, 1]\n",
    "fpr, tpr, thresholds = roc_curve(y_test, y_scores)\n",
    "roc_auc = auc(fpr, tpr)\n",
    "print('Random Forest AUC value:', roc_auc)\n",
    "pmodel = RandomForestClassifier(n_estimators=40)\n",
    "pmodel.fit(X_train_pca, y_train)\n",
    "print('\\nRandom Forest accuracy for PCA:', pmodel.score(X_test_pca, y_test))\n",
    "y_pred = pmodel.predict(X_test_pca)\n",
    "print('Random Forest classification report for PCA:\\n',classification_report(y_test, y_pred))\n",
    "y_scores = pmodel.predict_proba(X_test_pca)[:, 1]\n",
    "fpr, tpr, thresholds = roc_curve(y_test, y_scores)\n",
    "roc_auc = auc(fpr, tpr)\n",
    "print('Random Forest AUC value for PCA:', roc_auc)"
   ]
  },
  {
   "cell_type": "markdown",
   "id": "625a80f7-4692-468c-a892-110a079b0618",
   "metadata": {},
   "source": [
    "# Logistic Regression values"
   ]
  },
  {
   "cell_type": "code",
   "execution_count": 434,
   "id": "c9f4893f-ba5e-47d8-9c73-5cb92b87b0cf",
   "metadata": {},
   "outputs": [
    {
     "name": "stdout",
     "output_type": "stream",
     "text": [
      "Logistic Regression accuracy: 0.41379310344827586\n",
      "Logistic Regression classification report:\n",
      "               precision    recall  f1-score   support\n",
      "\n",
      "           0       0.53      0.56      0.54        18\n",
      "           1       0.20      0.18      0.19        11\n",
      "\n",
      "    accuracy                           0.41        29\n",
      "   macro avg       0.36      0.37      0.37        29\n",
      "weighted avg       0.40      0.41      0.41        29\n",
      "\n",
      "Logistic Regression AUC value: 0.4090909090909091\n",
      "\n",
      "Logistic Regression accuracy for PCA: 0.6551724137931034\n",
      "Logistic Regression classification report for PCA:\n",
      "               precision    recall  f1-score   support\n",
      "\n",
      "           0       0.64      1.00      0.78        18\n",
      "           1       1.00      0.09      0.17        11\n",
      "\n",
      "    accuracy                           0.66        29\n",
      "   macro avg       0.82      0.55      0.47        29\n",
      "weighted avg       0.78      0.66      0.55        29\n",
      "\n",
      "Logistic Regression AUC value for PCA 0.3484848484848485\n"
     ]
    }
   ],
   "source": [
    "model = LogisticRegression()\n",
    "model.fit(X_train, y_train)\n",
    "print('Logistic Regression accuracy:', model.score(X_test, y_test))\n",
    "y_pred = model.predict(X_test)\n",
    "print('Logistic Regression classification report:\\n',classification_report(y_test, y_pred))\n",
    "y_scores = model.predict_proba(X_test)[:, 1]\n",
    "fpr, tpr, thresholds = roc_curve(y_test, y_scores)\n",
    "roc_auc = auc(fpr, tpr)\n",
    "print('Logistic Regression AUC value:',roc_auc)\n",
    "pmodel = LogisticRegression()\n",
    "pmodel.fit(X_train_pca, y_train)\n",
    "print('\\nLogistic Regression accuracy for PCA:',pmodel.score(X_test_pca, y_test))\n",
    "y_pred = pmodel.predict(X_test_pca)\n",
    "print('Logistic Regression classification report for PCA:\\n',classification_report(y_test, y_pred))\n",
    "y_scores = pmodel.predict_proba(X_test_pca)[:, 1]\n",
    "fpr, tpr, thresholds = roc_curve(y_test, y_scores)\n",
    "roc_auc = auc(fpr, tpr)\n",
    "print('Logistic Regression AUC value for PCA',roc_auc)"
   ]
  },
  {
   "cell_type": "code",
   "execution_count": null,
   "id": "9d295acf-ead6-4291-b0e7-2701c2c7bdf3",
   "metadata": {},
   "outputs": [],
   "source": []
  }
 ],
 "metadata": {
  "kernelspec": {
   "display_name": "icr",
   "language": "python",
   "name": "icr"
  },
  "language_info": {
   "codemirror_mode": {
    "name": "ipython",
    "version": 3
   },
   "file_extension": ".py",
   "mimetype": "text/x-python",
   "name": "python",
   "nbconvert_exporter": "python",
   "pygments_lexer": "ipython3",
   "version": "3.13.5"
  }
 },
 "nbformat": 4,
 "nbformat_minor": 5
}
