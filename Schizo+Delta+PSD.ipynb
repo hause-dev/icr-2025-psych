{
 "cells": [
  {
   "cell_type": "code",
   "execution_count": 1,
   "id": "88e41c8a-7da7-4a95-b94b-f8e10805d298",
   "metadata": {},
   "outputs": [],
   "source": [
    "import pandas as pd\n",
    "import numpy as np\n",
    "\n",
    "dataparse = pd.read_csv('/Users/vanhome/Downloads/EEG.machinelearing_data_BRMH.csv')"
   ]
  },
  {
   "cell_type": "code",
   "execution_count": 2,
   "id": "8b2b730f-0372-4565-ab7f-6a4891a58213",
   "metadata": {},
   "outputs": [],
   "source": [
    "filtered = dataparse[dataparse['main.disorder'].isin(['Schizophrenia', 'Healthy control'])]\n",
    "\n",
    "alpha_psd_cols = [col for col in filtered.columns if 'COH' in col]\n",
    "\n",
    "X = filtered[alpha_psd_cols].values\n",
    "y = filtered['main.disorder'].apply(lambda x: 1 if x == 'Schizophrenia' else 0).values"
   ]
  },
  {
   "cell_type": "code",
   "execution_count": 3,
   "id": "f0b3bc16-a468-4856-aa4d-10f07916b405",
   "metadata": {},
   "outputs": [],
   "source": [
    "from sklearn.impute import SimpleImputer\n",
    "from sklearn.preprocessing import StandardScaler\n",
    "from sklearn.feature_selection import VarianceThreshold\n",
    "\n",
    "X[np.isinf(X)] = np.nan\n",
    "X = X[:, ~np.isnan(X).all(axis=0)]  # remove all-NaN cols\n",
    "X = SimpleImputer(strategy=\"mean\").fit_transform(X)\n",
    "X = VarianceThreshold(threshold=0).fit_transform(X)\n",
    "X = StandardScaler().fit_transform(X)"
   ]
  },
  {
   "cell_type": "code",
   "execution_count": 4,
   "id": "14ec71ef-21e3-40a8-ae76-6435e2f5f67e",
   "metadata": {},
   "outputs": [
    {
     "name": "stdout",
     "output_type": "stream",
     "text": [
      "Mean AUC: 0.7268306636155607\n",
      "Std AUC: 0.02551798092728887\n"
     ]
    }
   ],
   "source": [
    "from sklearn.model_selection import StratifiedKFold, cross_val_score\n",
    "from sklearn.linear_model import LogisticRegression\n",
    "\n",
    "cv = StratifiedKFold(n_splits=5, shuffle=True, random_state=42)\n",
    "clf = LogisticRegression(random_state=42, class_weight='balanced', max_iter=1000)\n",
    "\n",
    "scores = cross_val_score(clf, X, y, cv=cv, scoring='roc_auc')\n",
    "print(\"Mean AUC:\", scores.mean())\n",
    "print(\"Std AUC:\", scores.std())"
   ]
  },
  {
   "cell_type": "code",
   "execution_count": 5,
   "id": "ccdd3aa1-a397-4c40-89bc-20ab44266f20",
   "metadata": {},
   "outputs": [],
   "source": [
    "from sklearn.decomposition import PCA\n",
    "\n",
    "pca = PCA(n_components=0.95)\n",
    "X_pca = pca.fit_transform(X)"
   ]
  },
  {
   "cell_type": "code",
   "execution_count": 6,
   "id": "21959049-3fe2-438e-b4ed-a29ecae5d794",
   "metadata": {},
   "outputs": [
    {
     "name": "stdout",
     "output_type": "stream",
     "text": [
      "Mean AUC: 0.70593058733791\n",
      "Std AUC: 0.03854354294258143\n"
     ]
    }
   ],
   "source": [
    "from sklearn.model_selection import StratifiedKFold, cross_val_score\n",
    "from sklearn.linear_model import LogisticRegression\n",
    "\n",
    "cv = StratifiedKFold(n_splits=5, shuffle=True, random_state=42)\n",
    "clf = LogisticRegression(random_state=42, class_weight='balanced', max_iter=1000)\n",
    "\n",
    "scores = cross_val_score(clf, X_pca, y, cv=cv, scoring='roc_auc')\n",
    "print(\"Mean AUC:\", scores.mean())\n",
    "print(\"Std AUC:\", scores.std())"
   ]
  }
 ],
 "metadata": {
  "kernelspec": {
   "display_name": "Python 3 (ipykernel)",
   "language": "python",
   "name": "python3"
  },
  "language_info": {
   "codemirror_mode": {
    "name": "ipython",
    "version": 3
   },
   "file_extension": ".py",
   "mimetype": "text/x-python",
   "name": "python",
   "nbconvert_exporter": "python",
   "pygments_lexer": "ipython3",
   "version": "3.12.10"
  }
 },
 "nbformat": 4,
 "nbformat_minor": 5
}
