{
 "cells": [
  {
   "cell_type": "code",
   "execution_count": 1,
   "id": "afec0074-46e3-469e-8687-b14559d66e39",
   "metadata": {},
   "outputs": [],
   "source": [
    "import pandas as pd\n",
    "dataparse = pd.read_csv('/Users/vanhome/Downloads/EEG.machinelearing_data_BRMH.csv')"
   ]
  },
  {
   "cell_type": "code",
   "execution_count": 2,
   "id": "9db418ec-8672-4747-8517-ddc454cfdec6",
   "metadata": {},
   "outputs": [
    {
     "name": "stdout",
     "output_type": "stream",
     "text": [
      "Addictive Disorder shape: (186, 1148)\n",
      "Trauma and stress related disorder shape: (128, 1148)\n",
      "Mood Disorder shape: (266, 1148)\n",
      "Healthy control shape: (95, 1148)\n",
      "Obsessive compulsive disorder shape: (46, 1148)\n",
      "Schizophrenia shape: (117, 1148)\n",
      "Anxiety Disorder shape: (107, 1148)\n"
     ]
    }
   ],
   "source": [
    "disorder_groups = {}\n",
    "for disorder in dataparse['main.disorder'].unique():\n",
    "    group = dataparse[dataparse['main.disorder'] == disorder]\n",
    "    X = group.drop(columns=['main.disorder']).values\n",
    "    disorder_groups[disorder] = X\n",
    "\n",
    "print(\"Addictive Disorder shape:\", disorder_groups[\"Addictive disorder\"].shape)\n",
    "print(\"Trauma and stress related disorder shape:\", disorder_groups[\"Trauma and stress related disorder\"].shape)\n",
    "print(\"Mood Disorder shape:\", disorder_groups[\"Mood disorder\"].shape)\n",
    "print(\"Healthy control shape:\", disorder_groups[\"Healthy control\"].shape)\n",
    "print(\"Obsessive compulsive disorder shape:\", disorder_groups[\"Obsessive compulsive disorder\"].shape)\n",
    "print(\"Schizophrenia shape:\", disorder_groups[\"Schizophrenia\"].shape)\n",
    "print(\"Anxiety Disorder shape:\", disorder_groups[\"Anxiety disorder\"].shape)"
   ]
  },
  {
   "cell_type": "code",
   "execution_count": 3,
   "id": "85648a37-50b6-4251-9930-ae6c9c6bef1d",
   "metadata": {},
   "outputs": [
    {
     "name": "stdout",
     "output_type": "stream",
     "text": [
      "Index(['no.', 'sex', 'age', 'eeg.date', 'education', 'IQ', 'main.disorder',\n",
      "       'specific.disorder', 'AB.A.delta.a.FP1', 'AB.A.delta.b.FP2',\n",
      "       'AB.A.delta.c.F7', 'AB.A.delta.d.F3', 'AB.A.delta.e.Fz',\n",
      "       'AB.A.delta.f.F4', 'AB.A.delta.g.F8', 'AB.A.delta.h.T3',\n",
      "       'AB.A.delta.i.C3', 'AB.A.delta.j.Cz', 'AB.A.delta.k.C4',\n",
      "       'AB.A.delta.l.T4'],\n",
      "      dtype='object')\n"
     ]
    }
   ],
   "source": [
    "print(dataparse.columns[:20])"
   ]
  },
  {
   "cell_type": "code",
   "execution_count": 4,
   "id": "4c06d9a2-cd62-4e50-b160-0a150c551503",
   "metadata": {},
   "outputs": [
    {
     "name": "stdout",
     "output_type": "stream",
     "text": [
      "EEG shape (X): (945, 1141)\n",
      "Labels shape (y): (945,)\n"
     ]
    }
   ],
   "source": [
    "# Drop metadata to keep only EEG columns\n",
    "eeg_features = dataparse.drop(columns=[\n",
    "    'no.', 'sex', 'age', 'eeg.date', 'education', 'IQ',\n",
    "    'main.disorder', 'specific.disorder'\n",
    "])\n",
    "\n",
    "labels = dataparse['main.disorder']\n",
    "print(\"EEG shape (X):\", eeg_features.shape)\n",
    "print(\"Labels shape (y):\", labels.shape)"
   ]
  },
  {
   "cell_type": "code",
   "execution_count": 5,
   "id": "6c51c272-6119-4e97-a389-7cbb8257eca5",
   "metadata": {},
   "outputs": [
    {
     "name": "stdout",
     "output_type": "stream",
     "text": [
      "Encoded labels: [0 0 0 0 0 0 0 0 0 0]\n",
      "Class names: ['Addictive disorder' 'Anxiety disorder' 'Healthy control' 'Mood disorder'\n",
      " 'Obsessive compulsive disorder' 'Schizophrenia'\n",
      " 'Trauma and stress related disorder']\n"
     ]
    }
   ],
   "source": [
    "from sklearn.preprocessing import LabelEncoder\n",
    "\n",
    "le = LabelEncoder()\n",
    "y = le.fit_transform(labels)  # Converts disorder names to integers\n",
    "X = eeg_features.values       # Converts DataFrame to NumPy array\n",
    "\n",
    "print(\"Encoded labels:\", y[:10])\n",
    "print(\"Class names:\", le.classes_)"
   ]
  },
  {
   "cell_type": "code",
   "execution_count": 6,
   "id": "c3083ed1-2746-4dbe-9f6e-e194cfc66272",
   "metadata": {},
   "outputs": [
    {
     "name": "stdout",
     "output_type": "stream",
     "text": [
      "Accuracy: 0.30158730158730157\n"
     ]
    }
   ],
   "source": [
    "from sklearn.model_selection import train_test_split\n",
    "from sklearn.ensemble import RandomForestClassifier\n",
    "from sklearn.metrics import accuracy_score\n",
    "\n",
    "# Split into train/test\n",
    "X_train, X_test, y_train, y_test = train_test_split(X, y, test_size=0.2, random_state=42)\n",
    "\n",
    "# Train model\n",
    "clf = RandomForestClassifier()\n",
    "clf.fit(X_train, y_train)\n",
    "\n",
    "# Predict & evaluate\n",
    "y_pred = clf.predict(X_test)\n",
    "print(\"Accuracy:\", accuracy_score(y_test, y_pred))"
   ]
  },
  {
   "cell_type": "code",
   "execution_count": 7,
   "id": "5c1d77d4-0f8f-42f8-83aa-c0bbf9a403e5",
   "metadata": {},
   "outputs": [
    {
     "name": "stdout",
     "output_type": "stream",
     "text": [
      "Final cleaned X shape: (945, 1140)\n"
     ]
    }
   ],
   "source": [
    "import numpy as np\n",
    "from sklearn.impute import SimpleImputer\n",
    "from sklearn.preprocessing import StandardScaler\n",
    "from sklearn.feature_selection import VarianceThreshold\n",
    "\n",
    "# Copy original matrix to avoid altering it permanently\n",
    "X_safe = X.copy()\n",
    "\n",
    "# Replace inf with NaN\n",
    "X_safe[np.isinf(X_safe)] = np.nan\n",
    "\n",
    "# Drop columns that are entirely NaN\n",
    "# Find columns with all NaNs\n",
    "non_all_nan_cols = ~np.isnan(X_safe).all(axis=0)\n",
    "X_safe = X_safe[:, non_all_nan_cols]  # Keep only useful columns\n",
    "\n",
    "# Impute remaining NaNs with column mean\n",
    "imputer = SimpleImputer(strategy=\"mean\")\n",
    "X_imputed = imputer.fit_transform(X_safe)\n",
    "\n",
    "# Drop constant (zero-variance) columns\n",
    "selector = VarianceThreshold(threshold=0.0)\n",
    "X_nonconstant = selector.fit_transform(X_imputed)\n",
    "\n",
    "# Scale\n",
    "scaler = StandardScaler()\n",
    "X_scaled = scaler.fit_transform(X_nonconstant)\n",
    "\n",
    "print(\"Final cleaned X shape:\", X_scaled.shape)"
   ]
  },
  {
   "cell_type": "code",
   "execution_count": 8,
   "id": "986e7e00-bbfb-4e59-b64c-4077ea45eacb",
   "metadata": {},
   "outputs": [
    {
     "name": "stdout",
     "output_type": "stream",
     "text": [
      "PCA-reduced shape: (945, 95)\n",
      "Number of components kept: 95\n"
     ]
    }
   ],
   "source": [
    "from sklearn.decomposition import PCA\n",
    "\n",
    "# Keep 95% of the variance\n",
    "pca = PCA(n_components=0.95, svd_solver='full')\n",
    "X_pca = pca.fit_transform(X_scaled)\n",
    "\n",
    "print(\"PCA-reduced shape:\", X_pca.shape)\n",
    "\n",
    "print(\"Number of components kept:\", pca.n_components_)"
   ]
  },
  {
   "cell_type": "code",
   "execution_count": 9,
   "id": "c2df1611-a2ca-462f-9bf4-90e191fc2d52",
   "metadata": {},
   "outputs": [
    {
     "name": "stdout",
     "output_type": "stream",
     "text": [
      "Accuracy with PCA: 0.328042328042328\n"
     ]
    }
   ],
   "source": [
    "from sklearn.model_selection import train_test_split\n",
    "from sklearn.ensemble import RandomForestClassifier\n",
    "from sklearn.metrics import accuracy_score\n",
    "\n",
    "# Use PCA-transformed data here!\n",
    "X_train, X_test, y_train, y_test = train_test_split(X_pca, y, test_size=0.2, random_state=42)\n",
    "\n",
    "# Train model\n",
    "clf = RandomForestClassifier()\n",
    "clf.fit(X_train, y_train)\n",
    "\n",
    "# Predict & evaluate\n",
    "y_pred = clf.predict(X_test)\n",
    "print(\"Accuracy with PCA:\", accuracy_score(y_test, y_pred))"
   ]
  },
  {
   "cell_type": "code",
   "execution_count": null,
   "id": "137fb8da-1d8f-4278-9531-175d687b5077",
   "metadata": {},
   "outputs": [],
   "source": []
  }
 ],
 "metadata": {
  "kernelspec": {
   "display_name": "Python 3 (ipykernel)",
   "language": "python",
   "name": "python3"
  },
  "language_info": {
   "codemirror_mode": {
    "name": "ipython",
    "version": 3
   },
   "file_extension": ".py",
   "mimetype": "text/x-python",
   "name": "python",
   "nbconvert_exporter": "python",
   "pygments_lexer": "ipython3",
   "version": "3.12.10"
  }
 },
 "nbformat": 4,
 "nbformat_minor": 5
}
