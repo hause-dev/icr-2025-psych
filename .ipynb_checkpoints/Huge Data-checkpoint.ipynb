{
 "cells": [
  {
   "cell_type": "code",
   "execution_count": 103,
   "id": "522de17e-1d14-4750-87b9-d95cb5642ee0",
   "metadata": {},
   "outputs": [],
   "source": [
    "import numpy as np\n",
    "import pandas as pd\n",
    "import matplotlib.pyplot as plt\n",
    "from sklearn.model_selection import train_test_split\n",
    "from sklearn.svm import SVC\n",
    "from sklearn.metrics import classification_report\n",
    "from sklearn import svm\n",
    "from sklearn.datasets import make_blobs\n",
    "from sklearn.inspection import DecisionBoundaryDisplay\n",
    "from sklearn.metrics import confusion_matrix\n",
    "from sklearn.metrics import roc_curve, auc\n",
    "from sklearn.preprocessing import StandardScaler\n",
    "from sklearn.neighbors import KNeighborsClassifier\n",
    "from sklearn.ensemble import RandomForestClassifier\n",
    "from sklearn.linear_model import LogisticRegression\n",
    "from sklearn.linear_model import ElasticNet\n",
    "from sklearn.metrics import mean_absolute_error, mean_squared_error, r2_score\n",
    "import xgboost as xgb"
   ]
  },
  {
   "cell_type": "code",
   "execution_count": 168,
   "id": "e4ef7551-1404-4fb7-9c92-139084eebd4c",
   "metadata": {},
   "outputs": [],
   "source": [
    "# Load in your data here\n",
    "data = pd.read_csv(\"anxietyhc_gammaPSD.csv\") #file name here\n"
   ]
  },
  {
   "cell_type": "code",
   "execution_count": 169,
   "id": "759a65c2-cbbf-4c12-b4f9-99cb122bdb07",
   "metadata": {},
   "outputs": [],
   "source": [
    "# Data preprocessing\n",
    "X = data.drop('19', axis=1)\n",
    "y = data['19']\n",
    "X_train, X_test, y_train, y_test = train_test_split(X, y, test_size=0.20)"
   ]
  },
  {
   "cell_type": "code",
   "execution_count": 170,
   "id": "69cabdf9-2092-402d-8675-6245b7a83967",
   "metadata": {},
   "outputs": [],
   "source": [
    "# PCA data\n",
    "from sklearn.decomposition import PCA\n",
    "pca = PCA(0.95)\n",
    "X_pca = pca.fit_transform(X)\n",
    "X_pca.shape\n",
    "X_train_pca, X_test_pca, y_train, y_test = train_test_split(X_pca, y, test_size=0.2, random_state=30)"
   ]
  },
  {
   "cell_type": "markdown",
   "id": "f7611bd8-c2ee-4252-84ab-51395b22b966",
   "metadata": {},
   "source": [
    "# SVM Values"
   ]
  },
  {
   "cell_type": "code",
   "execution_count": 171,
   "id": "c860794d-4af0-419b-a42e-a690dbf721f8",
   "metadata": {},
   "outputs": [
    {
     "name": "stdout",
     "output_type": "stream",
     "text": [
      "SVM accuracy: 0.5365853658536586\n",
      "SVM classification report:\n",
      "               precision    recall  f1-score   support\n",
      "\n",
      "           0       0.50      0.74      0.60        19\n",
      "           1       0.62      0.36      0.46        22\n",
      "\n",
      "    accuracy                           0.54        41\n",
      "   macro avg       0.56      0.55      0.53        41\n",
      "weighted avg       0.56      0.54      0.52        41\n",
      "\n",
      "SVM AUC value: 0.5478468899521531\n",
      "\n",
      "SVM accuracy for PCA: 0.5853658536585366\n",
      "SVM classification report for PCA:\n",
      "               precision    recall  f1-score   support\n",
      "\n",
      "           0       0.58      0.37      0.45        19\n",
      "           1       0.59      0.77      0.67        22\n",
      "\n",
      "    accuracy                           0.59        41\n",
      "   macro avg       0.58      0.57      0.56        41\n",
      "weighted avg       0.58      0.59      0.57        41\n",
      "\n",
      "SVM AUC value for PCA: 0.42822966507177035\n"
     ]
    }
   ],
   "source": [
    "svclassifier = SVC(kernel='linear',probability=True)\n",
    "svclassifier.fit(X_train, y_train)\n",
    "y_pred = svclassifier.predict(X_test)\n",
    "print('SVM accuracy:', svclassifier.score(X_test, y_test))\n",
    "print('SVM classification report:\\n', classification_report(y_test, y_pred))\n",
    "y_scores = svclassifier.predict_proba(X_test)[:, 1]\n",
    "fpr, tpr, thresholds = roc_curve(y_test, y_scores)\n",
    "# Calculate AUC\n",
    "roc_auc = auc(fpr, tpr)\n",
    "print('SVM AUC value:', roc_auc)\n",
    "newsvm=SVC(kernel='linear', probability=True)\n",
    "newsvm.fit(X_train_pca, y_train)\n",
    "y_pred = newsvm.predict(X_test_pca)\n",
    "print('\\nSVM accuracy for PCA:', newsvm.score(X_test_pca, y_test))\n",
    "print('SVM classification report for PCA:\\n', classification_report(y_test, y_pred))\n",
    "y_scores = newsvm.predict_proba(X_test_pca)[:, 1]\n",
    "fpr, tpr, thresholds = roc_curve(y_test, y_scores)\n",
    "roc_auc = auc(fpr, tpr)\n",
    "print('SVM AUC value for PCA:', roc_auc)\n"
   ]
  },
  {
   "cell_type": "markdown",
   "id": "4509dc46-25f5-4e1a-8c61-58b3517de46d",
   "metadata": {},
   "source": [
    "# KNN Values"
   ]
  },
  {
   "cell_type": "code",
   "execution_count": 172,
   "id": "d8a9125f-a4e8-42fc-b30c-e596914e520c",
   "metadata": {},
   "outputs": [
    {
     "name": "stdout",
     "output_type": "stream",
     "text": [
      "KNN accuracy: 0.4146341463414634\n",
      "KNN classification report:\n",
      "               precision    recall  f1-score   support\n",
      "\n",
      "           0       0.42      0.74      0.54        19\n",
      "           1       0.38      0.14      0.20        22\n",
      "\n",
      "    accuracy                           0.41        41\n",
      "   macro avg       0.40      0.44      0.37        41\n",
      "weighted avg       0.40      0.41      0.36        41\n",
      "\n",
      "KNN AUC value: 0.4820574162679426\n",
      "\n",
      "KNN accuracy for PCA: 0.4878048780487805\n",
      "KNN classification report for PCA\n",
      "               precision    recall  f1-score   support\n",
      "\n",
      "           0       0.46      0.58      0.51        19\n",
      "           1       0.53      0.41      0.46        22\n",
      "\n",
      "    accuracy                           0.49        41\n",
      "   macro avg       0.49      0.49      0.49        41\n",
      "weighted avg       0.50      0.49      0.48        41\n",
      "\n",
      "KNN AUC value for PCA 0.5\n"
     ]
    }
   ],
   "source": [
    "knn = KNeighborsClassifier(n_neighbors=10)\n",
    "knn.fit(X_train, y_train)\n",
    "print('KNN accuracy:', knn.score(X_test, y_test))\n",
    "y_pred = knn.predict(X_test)\n",
    "print('KNN classification report:\\n',classification_report(y_test, y_pred))\n",
    "y_scores = knn.predict_proba(X_test)[:, 1]\n",
    "fpr, tpr, thresholds = roc_curve(y_test, y_scores)\n",
    "roc_auc = auc(fpr, tpr)\n",
    "print('KNN AUC value:', roc_auc)\n",
    "knn = KNeighborsClassifier(n_neighbors=10)\n",
    "knn.fit(X_train_pca, y_train)\n",
    "print('\\nKNN accuracy for PCA:', knn.score(X_test_pca, y_test))\n",
    "y_pred = knn.predict(X_test_pca)\n",
    "print('KNN classification report for PCA\\n', classification_report(y_test, y_pred))\n",
    "y_scores = knn.predict_proba(X_test_pca)[:, 1]\n",
    "fpr, tpr, thresholds = roc_curve(y_test, y_scores)\n",
    "roc_auc = auc(fpr, tpr)\n",
    "print('KNN AUC value for PCA',roc_auc)"
   ]
  },
  {
   "cell_type": "markdown",
   "id": "1e6f21e9-589a-4422-8833-c91ba6816007",
   "metadata": {},
   "source": [
    "# Random Forest Values"
   ]
  },
  {
   "cell_type": "code",
   "execution_count": 173,
   "id": "753359a4-46ef-4be2-a601-69479dd4ea5a",
   "metadata": {},
   "outputs": [
    {
     "name": "stdout",
     "output_type": "stream",
     "text": [
      "Random Forest accuracy: 0.4878048780487805\n",
      "Random Forest classification report\n",
      "               precision    recall  f1-score   support\n",
      "\n",
      "           0       0.45      0.53      0.49        19\n",
      "           1       0.53      0.45      0.49        22\n",
      "\n",
      "    accuracy                           0.49        41\n",
      "   macro avg       0.49      0.49      0.49        41\n",
      "weighted avg       0.49      0.49      0.49        41\n",
      "\n",
      "Random Forest AUC value: 0.46889952153110054\n",
      "\n",
      "Random Forest accuracy for PCA: 0.5121951219512195\n",
      "Random Forest classification report for PCA:\n",
      "               precision    recall  f1-score   support\n",
      "\n",
      "           0       0.48      0.63      0.55        19\n",
      "           1       0.56      0.41      0.47        22\n",
      "\n",
      "    accuracy                           0.51        41\n",
      "   macro avg       0.52      0.52      0.51        41\n",
      "weighted avg       0.52      0.51      0.51        41\n",
      "\n",
      "Random Forest AUC value for PCA: 0.5669856459330144\n"
     ]
    }
   ],
   "source": [
    "model = RandomForestClassifier(n_estimators=40)\n",
    "model.fit(X_train, y_train)\n",
    "print('Random Forest accuracy:', model.score(X_test, y_test))\n",
    "y_pred = model.predict(X_test)\n",
    "print('Random Forest classification report\\n',classification_report(y_test, y_pred))\n",
    "y_scores = model.predict_proba(X_test)[:, 1]\n",
    "fpr, tpr, thresholds = roc_curve(y_test, y_scores)\n",
    "roc_auc = auc(fpr, tpr)\n",
    "print('Random Forest AUC value:', roc_auc)\n",
    "pmodel = RandomForestClassifier(n_estimators=40)\n",
    "pmodel.fit(X_train_pca, y_train)\n",
    "print('\\nRandom Forest accuracy for PCA:', pmodel.score(X_test_pca, y_test))\n",
    "y_pred = pmodel.predict(X_test_pca)\n",
    "print('Random Forest classification report for PCA:\\n',classification_report(y_test, y_pred))\n",
    "y_scores = pmodel.predict_proba(X_test_pca)[:, 1]\n",
    "fpr, tpr, thresholds = roc_curve(y_test, y_scores)\n",
    "roc_auc = auc(fpr, tpr)\n",
    "print('Random Forest AUC value for PCA:', roc_auc)"
   ]
  },
  {
   "cell_type": "markdown",
   "id": "625a80f7-4692-468c-a892-110a079b0618",
   "metadata": {},
   "source": [
    "# Logistic Regression values"
   ]
  },
  {
   "cell_type": "code",
   "execution_count": 174,
   "id": "c9f4893f-ba5e-47d8-9c73-5cb92b87b0cf",
   "metadata": {},
   "outputs": [
    {
     "name": "stdout",
     "output_type": "stream",
     "text": [
      "Logistic Regression accuracy: 0.5853658536585366\n",
      "Logistic Regression classification report:\n",
      "               precision    recall  f1-score   support\n",
      "\n",
      "           0       0.54      0.74      0.62        19\n",
      "           1       0.67      0.45      0.54        22\n",
      "\n",
      "    accuracy                           0.59        41\n",
      "   macro avg       0.60      0.60      0.58        41\n",
      "weighted avg       0.61      0.59      0.58        41\n",
      "\n",
      "Logistic Regression AUC value: 0.5311004784688995\n",
      "\n",
      "Logistic Regression accuracy for PCA: 0.6341463414634146\n",
      "Logistic Regression classification report for PCA:\n",
      "               precision    recall  f1-score   support\n",
      "\n",
      "           0       0.62      0.53      0.57        19\n",
      "           1       0.64      0.73      0.68        22\n",
      "\n",
      "    accuracy                           0.63        41\n",
      "   macro avg       0.63      0.63      0.63        41\n",
      "weighted avg       0.63      0.63      0.63        41\n",
      "\n",
      "Logistic Regression AUC value for PCA 0.6267942583732058\n"
     ]
    }
   ],
   "source": [
    "model = LogisticRegression()\n",
    "model.fit(X_train, y_train)\n",
    "print('Logistic Regression accuracy:', model.score(X_test, y_test))\n",
    "y_pred = model.predict(X_test)\n",
    "print('Logistic Regression classification report:\\n',classification_report(y_test, y_pred))\n",
    "y_scores = model.predict_proba(X_test)[:, 1]\n",
    "fpr, tpr, thresholds = roc_curve(y_test, y_scores)\n",
    "roc_auc = auc(fpr, tpr)\n",
    "print('Logistic Regression AUC value:',roc_auc)\n",
    "pmodel = LogisticRegression()\n",
    "pmodel.fit(X_train_pca, y_train)\n",
    "print('\\nLogistic Regression accuracy for PCA:',pmodel.score(X_test_pca, y_test))\n",
    "y_pred = pmodel.predict(X_test_pca)\n",
    "print('Logistic Regression classification report for PCA:\\n',classification_report(y_test, y_pred))\n",
    "y_scores = pmodel.predict_proba(X_test_pca)[:, 1]\n",
    "fpr, tpr, thresholds = roc_curve(y_test, y_scores)\n",
    "roc_auc = auc(fpr, tpr)\n",
    "print('Logistic Regression AUC value for PCA',roc_auc)"
   ]
  },
  {
   "cell_type": "markdown",
   "id": "8e9fd1bb-75db-4eef-9aa6-a9cc57716bd8",
   "metadata": {},
   "source": [
    "# Elastic Net Values"
   ]
  },
  {
   "cell_type": "code",
   "execution_count": 175,
   "id": "0791a32c-3fe5-4913-9afc-1048f98de1a2",
   "metadata": {},
   "outputs": [
    {
     "name": "stdout",
     "output_type": "stream",
     "text": [
      "Mean absolute error: 0.4979548553249507\n",
      "Mean squared error: 0.2487360751852957\n",
      "r2 score: -0.0002998621686174374\n",
      "\n",
      "Mean absolute error for PCA: 0.4979548553249507\n",
      "Mean squared error for PCA: 0.2487360751852957\n",
      "r2 score for PCA: -0.0002998621686174374\n"
     ]
    }
   ],
   "source": [
    "scaler = StandardScaler()\n",
    "X_train = scaler.fit_transform(X_train)\n",
    "X_test = scaler.fit_transform(X_test)\n",
    "elastic_net = ElasticNet()\n",
    "elastic_net.fit(X_train, y_train)\n",
    "y_pred = elastic_net.predict(X_test)\n",
    "print('Mean absolute error:',mean_absolute_error(y_test, y_pred))\n",
    "print('Mean squared error:', mean_squared_error(y_test, y_pred))\n",
    "print('r2 score:', r2_score(y_test, y_pred))\n",
    "pcaX_train = scaler.fit_transform(X_train_pca)\n",
    "pcaX_test = scaler.fit_transform(X_test_pca)\n",
    "elastic_net = ElasticNet()\n",
    "elastic_net.fit(pcaX_train, y_train)\n",
    "y_pred = elastic_net.predict(pcaX_test)\n",
    "print('\\nMean absolute error for PCA:',mean_absolute_error(y_test, y_pred))\n",
    "print('Mean squared error for PCA:', mean_squared_error(y_test, y_pred))\n",
    "print('r2 score for PCA:', r2_score(y_test, y_pred))"
   ]
  },
  {
   "cell_type": "markdown",
   "id": "e8880233-ded7-4169-948f-7a33fc5bcf3c",
   "metadata": {},
   "source": [
    "# XGB Values"
   ]
  },
  {
   "cell_type": "code",
   "execution_count": 176,
   "id": "b5e29807-cfd8-4c71-968a-add6b4fee3ba",
   "metadata": {},
   "outputs": [
    {
     "name": "stdout",
     "output_type": "stream",
     "text": [
      "[0]\tvalidation_0-logloss:0.69567\n",
      "[1]\tvalidation_0-logloss:0.69094\n",
      "[2]\tvalidation_0-logloss:0.69261\n",
      "[3]\tvalidation_0-logloss:0.70088\n",
      "XGB accuracy: 0.5609756097560976\n",
      "XGB Classification report:\n",
      "               precision    recall  f1-score   support\n",
      "\n",
      "           0       0.53      0.53      0.53        19\n",
      "           1       0.59      0.59      0.59        22\n",
      "\n",
      "    accuracy                           0.56        41\n",
      "   macro avg       0.56      0.56      0.56        41\n",
      "weighted avg       0.56      0.56      0.56        41\n",
      "\n",
      "XGB AUC value: 0.5610047846889952\n",
      "[0]\tvalidation_0-logloss:0.70908\n",
      "[1]\tvalidation_0-logloss:0.72372\n",
      "[2]\tvalidation_0-logloss:0.74988\n",
      "\n",
      "XGB accuracy for PCA: 0.4878048780487805\n",
      "XGB classification report for PCA:\n",
      "               precision    recall  f1-score   support\n",
      "\n",
      "           0       0.44      0.42      0.43        19\n",
      "           1       0.52      0.55      0.53        22\n",
      "\n",
      "    accuracy                           0.49        41\n",
      "   macro avg       0.48      0.48      0.48        41\n",
      "weighted avg       0.49      0.49      0.49        41\n",
      "\n",
      "XBG AUC for PCA: 0.4736842105263158\n"
     ]
    }
   ],
   "source": [
    "clf = xgb.XGBClassifier(tree_method=\"hist\", early_stopping_rounds=2)\n",
    "clf.fit(X_train, y_train, eval_set=[(X_test, y_test)])\n",
    "y_pred = clf.predict(X_test)\n",
    "print('XGB accuracy:',clf.score(X_test, y_test))\n",
    "print('XGB Classification report:\\n',classification_report(y_test, y_pred))\n",
    "y_scores = clf.predict_proba(X_test)[:, 1]\n",
    "fpr, tpr, thresholds = roc_curve(y_test, y_scores)\n",
    "roc_auc = auc(fpr, tpr)\n",
    "print('XGB AUC value:',roc_auc)\n",
    "pxgb = xgb.XGBClassifier(tree_method=\"hist\", early_stopping_rounds=2)\n",
    "pxgb.fit(X_train_pca, y_train, eval_set=[(X_test_pca, y_test)])\n",
    "print('\\nXGB accuracy for PCA:', pxgb.score(X_test_pca, y_test))\n",
    "y_pred = pxgb.predict(X_test_pca)\n",
    "print('XGB classification report for PCA:\\n',classification_report(y_test, y_pred))\n",
    "y_scores = pxgb.predict_proba(X_test_pca)[:, 1]\n",
    "fpr, tpr, thresholds = roc_curve(y_test, y_scores)\n",
    "roc_auc = auc(fpr, tpr)\n",
    "print('XBG AUC for PCA:', roc_auc)"
   ]
  },
  {
   "cell_type": "code",
   "execution_count": null,
   "id": "66dcfad0-6e8f-471f-9667-2131745636d2",
   "metadata": {},
   "outputs": [],
   "source": []
  }
 ],
 "metadata": {
  "kernelspec": {
   "display_name": "icr",
   "language": "python",
   "name": "icr"
  },
  "language_info": {
   "codemirror_mode": {
    "name": "ipython",
    "version": 3
   },
   "file_extension": ".py",
   "mimetype": "text/x-python",
   "name": "python",
   "nbconvert_exporter": "python",
   "pygments_lexer": "ipython3",
   "version": "3.13.5"
  }
 },
 "nbformat": 4,
 "nbformat_minor": 5
}
