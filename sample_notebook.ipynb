{
 "cells": [
  {
   "cell_type": "markdown",
   "id": "cdc4455f-d174-4296-b56b-c0a43da72800",
   "metadata": {},
   "source": [
    "# Booting up Jupyter"
   ]
  },
  {
   "cell_type": "markdown",
   "id": "12ab0c1b-b100-40b8-9d23-5ee0df024302",
   "metadata": {},
   "source": [
    "## Adding code\n",
    "\n",
    "There are two main types of cells in a Jupyter notebook--code and markdown. Markdown cells support general markdown format as well as $\\LaTeX$ integration:\n",
    "\n",
    "$$ \\int_0^\\infty \\ln(x) dx $$"
   ]
  },
  {
   "cell_type": "code",
   "execution_count": 1,
   "id": "3ac1183b-603e-43a3-bc7c-8f1ba1676d86",
   "metadata": {},
   "outputs": [],
   "source": [
    "import numpy\n",
    "import matplotlib.pyplot as plt\n",
    "import pandas"
   ]
  },
  {
   "cell_type": "markdown",
   "id": "da3207a2-336e-42d1-b952-4f9b24706834",
   "metadata": {},
   "source": [
    "Code cells can be run in any order on a notebook, although keep in mind this means variables and other calculations will not update depending on when cells are run. Run the first of the two cells below a few times and see that the number printed never changes, while running the second cell multiple times changes the value each time.\n",
    "\n",
    "A good way to structure a notebook is to split code into cells that you want to run and rerun to update things."
   ]
  },
  {
   "cell_type": "code",
   "execution_count": 11,
   "id": "c11ed0bb-f309-4624-8ea4-ed5f496496ee",
   "metadata": {},
   "outputs": [
    {
     "name": "stdout",
     "output_type": "stream",
     "text": [
      "45\n"
     ]
    }
   ],
   "source": [
    "x = 0\n",
    "\n",
    "for i in range(10):\n",
    "    x += i\n",
    "\n",
    "print(x)"
   ]
  },
  {
   "cell_type": "code",
   "execution_count": 12,
   "id": "f698377f-dad4-40f6-80c1-8a96c1844ed0",
   "metadata": {},
   "outputs": [
    {
     "name": "stdout",
     "output_type": "stream",
     "text": [
      "90\n"
     ]
    }
   ],
   "source": [
    "for i in range(10):\n",
    "    x += i\n",
    "\n",
    "print(x)"
   ]
  }
 ],
 "metadata": {
  "kernelspec": {
   "display_name": "icr",
   "language": "python",
   "name": "icr"
  },
  "language_info": {
   "codemirror_mode": {
    "name": "ipython",
    "version": 3
   },
   "file_extension": ".py",
   "mimetype": "text/x-python",
   "name": "python",
   "nbconvert_exporter": "python",
   "pygments_lexer": "ipython3",
   "version": "3.13.5"
  }
 },
 "nbformat": 4,
 "nbformat_minor": 5
}
