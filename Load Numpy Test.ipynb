{
 "cells": [
  {
   "cell_type": "code",
   "execution_count": 3,
   "id": "3c2c841c-6fae-47ab-bb3f-ed255fbf6da4",
   "metadata": {},
   "outputs": [
    {
     "name": "stdout",
     "output_type": "stream",
     "text": [
      "<bound method NDFrame.head of      no. sex   age    eeg.date  education     IQ       main.disorder  \\\n",
      "0      1   M  57.0   2012.8.30        NaN    NaN  Addictive disorder   \n",
      "1      2   M  37.0    2012.9.6        6.0  120.0  Addictive disorder   \n",
      "2      3   M  32.0   2012.9.10       16.0  113.0  Addictive disorder   \n",
      "3      4   M  35.0   2012.10.8       18.0  126.0  Addictive disorder   \n",
      "4      5   M  36.0  2012.10.18       16.0  112.0  Addictive disorder   \n",
      "..   ...  ..   ...         ...        ...    ...                 ...   \n",
      "940  941   M  22.0   2014.8.28       13.0  116.0     Healthy control   \n",
      "941  942   M  26.0   2014.9.19       13.0  118.0     Healthy control   \n",
      "942  943   M  26.0   2014.9.27       16.0  113.0     Healthy control   \n",
      "943  944   M  24.0   2014.9.20       13.0  107.0     Healthy control   \n",
      "944  945   M  21.0  2015.10.23       13.0  105.0     Healthy control   \n",
      "\n",
      "        specific.disorder  AB.A.delta.a.FP1  AB.A.delta.b.FP2  ...  \\\n",
      "0    Alcohol use disorder         35.998557         21.717375  ...   \n",
      "1    Alcohol use disorder         13.425118         11.002916  ...   \n",
      "2    Alcohol use disorder         29.941780         27.544684  ...   \n",
      "3    Alcohol use disorder         21.496226         21.846832  ...   \n",
      "4    Alcohol use disorder         37.775667         33.607679  ...   \n",
      "..                    ...               ...               ...  ...   \n",
      "940       Healthy control         41.851823         36.771496  ...   \n",
      "941       Healthy control         18.986856         19.401387  ...   \n",
      "942       Healthy control         28.781317         32.369230  ...   \n",
      "943       Healthy control         19.929100         25.196375  ...   \n",
      "944       Healthy control         65.195346         69.241972  ...   \n",
      "\n",
      "     COH.F.gamma.o.Pz.p.P4  COH.F.gamma.o.Pz.q.T6  COH.F.gamma.o.Pz.r.O1  \\\n",
      "0                55.989192              16.739679              23.452271   \n",
      "1                45.595619              17.510824              26.777368   \n",
      "2                99.475453              70.654171              39.131547   \n",
      "3                59.986561              63.822201              36.478254   \n",
      "4                61.462720              59.166097              51.465531   \n",
      "..                     ...                    ...                    ...   \n",
      "940              82.905657              34.850706              63.970519   \n",
      "941              65.917918              66.700117              44.756285   \n",
      "942              61.040959              27.632209              45.552852   \n",
      "943              99.113664              48.328934              41.248470   \n",
      "944              78.600293              68.255430              70.687410   \n",
      "\n",
      "     COH.F.gamma.o.Pz.s.O2  COH.F.gamma.p.P4.q.T6  COH.F.gamma.p.P4.r.O1  \\\n",
      "0                45.678820              30.167520              16.918761   \n",
      "1                28.201062              57.108861              32.375401   \n",
      "2                69.920996              71.063644              38.534505   \n",
      "3                47.117006              84.658376              24.724096   \n",
      "4                58.635415              80.685608              62.138436   \n",
      "..                     ...                    ...                    ...   \n",
      "940              63.982003              51.244725              62.203684   \n",
      "941              49.787513              98.905995              54.021304   \n",
      "942              33.638817              46.690983              19.382928   \n",
      "943              28.192238              48.665743              42.007147   \n",
      "944              74.433908              74.294750              53.254681   \n",
      "\n",
      "     COH.F.gamma.p.P4.s.O2  COH.F.gamma.q.T6.r.O1  COH.F.gamma.q.T6.s.O2  \\\n",
      "0                48.850427               9.422630              34.507082   \n",
      "1                60.351749              13.900981              57.831848   \n",
      "2                69.908764              27.180532              64.803155   \n",
      "3                50.299349              35.319695              79.822944   \n",
      "4                75.888749              61.003944              87.455509   \n",
      "..                     ...                    ...                    ...   \n",
      "940              62.062237              31.013031              31.183413   \n",
      "941              93.902401              52.740396              92.807331   \n",
      "942              41.050717               7.045821              41.962451   \n",
      "943              28.735945              27.176500              27.529522   \n",
      "944              72.755265              47.810386              80.166825   \n",
      "\n",
      "     COH.F.gamma.r.O1.s.O2  \n",
      "0                28.613029  \n",
      "1                43.463261  \n",
      "2                31.485799  \n",
      "3                41.141873  \n",
      "4                70.531662  \n",
      "..                     ...  \n",
      "940              98.325230  \n",
      "941              56.320868  \n",
      "942              19.092111  \n",
      "943              20.028446  \n",
      "944              64.380273  \n",
      "\n",
      "[945 rows x 1149 columns]>\n",
      "Addictive Disorder shape: (186, 1148)\n",
      "Trauma and stress related disorder shape: (128, 1148)\n",
      "Mood Disorder shape: (266, 1148)\n",
      "Healthy control shape: (95, 1148)\n",
      "Obsessive compulsive disorder shape: (46, 1148)\n",
      "Schizophrenia shape: (117, 1148)\n",
      "Anxiety Disorder shape: (107, 1148)\n"
     ]
    }
   ],
   "source": [
    "import pandas as pd\n",
    "dataparse = pd.read_csv('/Users/vanhome/Downloads/EEG.machinelearing_data_BRMH.csv')\n",
    "print(dataparse.head)\n",
    "\n",
    "import numpy as np\n",
    "data_array = dataparse.to_numpy()\n",
    "np.save('data_array.npy', data_array)\n",
    "\n",
    "disorder_groups = {}\n",
    "for disorder in dataparse['main.disorder'].unique():\n",
    "    group = dataparse[dataparse['main.disorder'] == disorder]\n",
    "    X = group.drop(columns=['main.disorder']).values\n",
    "    disorder_groups[disorder] = X\n",
    "\n",
    "print(\"Addictive Disorder shape:\", disorder_groups[\"Addictive disorder\"].shape)\n",
    "print(\"Trauma and stress related disorder shape:\", disorder_groups[\"Trauma and stress related disorder\"].shape)\n",
    "print(\"Mood Disorder shape:\", disorder_groups[\"Mood disorder\"].shape)\n",
    "print(\"Healthy control shape:\", disorder_groups[\"Healthy control\"].shape)\n",
    "print(\"Obsessive compulsive disorder shape:\", disorder_groups[\"Obsessive compulsive disorder\"].shape)\n",
    "print(\"Schizophrenia shape:\", disorder_groups[\"Schizophrenia\"].shape)\n",
    "print(\"Anxiety Disorder shape:\", disorder_groups[\"Anxiety disorder\"].shape)"
   ]
  },
  {
   "cell_type": "code",
   "execution_count": 5,
   "id": "0c236588-8db4-40f9-8210-e502eaf34550",
   "metadata": {},
   "outputs": [
    {
     "data": {
      "text/plain": [
       "array([[1, 'M', 57.0, ..., 9.42263, 34.507082, 28.613029],\n",
       "       [2, 'M', 37.0, ..., 13.900981, 57.831848, 43.463261],\n",
       "       [3, 'M', 32.0, ..., 27.180532, 64.803155, 31.485799],\n",
       "       ...,\n",
       "       [943, 'M', 26.0, ..., 7.045821, 41.962451, 19.092111],\n",
       "       [944, 'M', 24.0, ..., 27.1765, 27.529522, 20.028446],\n",
       "       [945, 'M', 21.0, ..., 47.810386, 80.166825, 64.380273]],\n",
       "      shape=(945, 1149), dtype=object)"
      ]
     },
     "execution_count": 5,
     "metadata": {},
     "output_type": "execute_result"
    }
   ],
   "source": [
    "import numpy as np\n",
    "\n",
    "data = np.load('data_array.npy', allow_pickle=True)\n",
    "data"
   ]
  }
 ],
 "metadata": {
  "kernelspec": {
   "display_name": "Python 3 (ipykernel)",
   "language": "python",
   "name": "python3"
  },
  "language_info": {
   "codemirror_mode": {
    "name": "ipython",
    "version": 3
   },
   "file_extension": ".py",
   "mimetype": "text/x-python",
   "name": "python",
   "nbconvert_exporter": "python",
   "pygments_lexer": "ipython3",
   "version": "3.12.10"
  }
 },
 "nbformat": 4,
 "nbformat_minor": 5
}
