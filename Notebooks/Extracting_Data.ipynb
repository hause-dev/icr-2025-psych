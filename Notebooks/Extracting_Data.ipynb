{
 "cells": [
  {
   "cell_type": "markdown",
   "id": "0224e179-05ee-42f2-b868-0aefc20f30ec",
   "metadata": {},
   "source": [
    "## Import Modules"
   ]
  },
  {
   "cell_type": "code",
   "execution_count": 1,
   "id": "f0fff228-f011-4beb-abf1-29b43770cfa0",
   "metadata": {},
   "outputs": [],
   "source": [
    "import numpy as np\n",
    "import pandas as pd\n",
    "import matplotlib.pyplot as plt\n",
    "from sklearn.model_selection import train_test_split\n",
    "from sklearn.svm import SVC\n",
    "from sklearn.metrics import classification_report"
   ]
  },
  {
   "cell_type": "markdown",
   "id": "7912ed5d-cf7e-4744-8d55-359fa66ba3e7",
   "metadata": {},
   "source": [
    "## Loading in Full Array"
   ]
  },
  {
   "cell_type": "code",
   "execution_count": 4,
   "id": "a4de218c-49e2-4eef-845c-cac9b6abd7e8",
   "metadata": {},
   "outputs": [],
   "source": [
    "filename = \"/home/novo/icr-2025-psych/Data/all_eeg_data.csv\" #Put filename here\n",
    "data_parse = pd.read_csv(filename)"
   ]
  },
  {
   "cell_type": "code",
   "execution_count": 7,
   "id": "11414c5e-3dc5-4ab1-a0ef-3458c5dc36da",
   "metadata": {},
   "outputs": [],
   "source": [
    "data_array = data_parse.to_numpy()\n",
    "np.save(\"data_array.npy\", data_array)"
   ]
  },
  {
   "cell_type": "code",
   "execution_count": 8,
   "id": "8f03fd65-4e1f-477d-859a-28b090cfd071",
   "metadata": {},
   "outputs": [],
   "source": [
    "arr = np.load(\"data_array.npy\", allow_pickle = True)"
   ]
  },
  {
   "cell_type": "markdown",
   "id": "c89b59cb-94e0-4b36-848c-2c70f6e1637d",
   "metadata": {},
   "source": [
    "## Extracting Specific Sections of Array"
   ]
  },
  {
   "cell_type": "code",
   "execution_count": 9,
   "id": "855fef53-8872-4245-8ea1-18930a54b142",
   "metadata": {},
   "outputs": [],
   "source": [
    "total_data = []\n",
    "df = pd.read_csv(\"eeg_data.csv\")\n",
    "headers = df.columns\n",
    "\n",
    "for i in range(0,945):\n",
    "    if arr[i,6] == str(\"Schizophrenia\"): #Specify disorder here\n",
    "        row = []\n",
    "        for mood in range(8,122):\n",
    "            row.append(arr[i,mood])\n",
    "        row.append(\"1\")\n",
    "        total_data.append(row)\n",
    "for i in range(0,945):\n",
    "    if arr[i,6] == str(\"Healthy control\"): #Specify disorder here\n",
    "        row = []\n",
    "        for hc in range(8,122):\n",
    "            row.append(arr[i,hc])\n",
    "        row.append(\"0\")\n",
    "        total_data.append(row)\n",
    "        \n",
    "df = pd.DataFrame(total_data)\n",
    "df.to_csv(\"/home/novo/icr-2025-psych/schizohc_allPSD.csv\", index = False) #Specify a filename here"
   ]
  }
 ],
 "metadata": {
  "kernelspec": {
   "display_name": "smotetry",
   "language": "python",
   "name": "smotetry"
  },
  "language_info": {
   "codemirror_mode": {
    "name": "ipython",
    "version": 3
   },
   "file_extension": ".py",
   "mimetype": "text/x-python",
   "name": "python",
   "nbconvert_exporter": "python",
   "pygments_lexer": "ipython3",
   "version": "3.11.13"
  }
 },
 "nbformat": 4,
 "nbformat_minor": 5
}
