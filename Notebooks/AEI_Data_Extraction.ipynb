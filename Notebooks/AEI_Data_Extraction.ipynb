{
 "cells": [
  {
   "cell_type": "markdown",
   "id": "a8774081-96ca-4e5a-9669-a157f0cfe5dc",
   "metadata": {},
   "source": [
    "## Import Modules"
   ]
  },
  {
   "cell_type": "code",
   "execution_count": 59,
   "id": "f0fff228-f011-4beb-abf1-29b43770cfa0",
   "metadata": {},
   "outputs": [],
   "source": [
    "import numpy as np\n",
    "import pandas as pd\n",
    "import matplotlib.pyplot as plt\n",
    "from sklearn.model_selection import train_test_split\n",
    "from sklearn.svm import SVC\n",
    "from sklearn.metrics import classification_report"
   ]
  },
  {
   "cell_type": "markdown",
   "id": "f8999821-5ef8-480c-a0f5-329c946ca893",
   "metadata": {},
   "source": [
    "## Load in Data"
   ]
  },
  {
   "cell_type": "code",
   "execution_count": 63,
   "id": "a4de218c-49e2-4eef-845c-cac9b6abd7e8",
   "metadata": {},
   "outputs": [],
   "source": [
    "filename = \"Data/all_eeg_data.csv\"\n",
    "data_parse = pd.read_csv(filename)\n",
    "data_array = data_parse.to_numpy()\n",
    "np.save(\"data_array.npy\", data_array)\n",
    "arr = np.load(\"data_array.npy\", allow_pickle = True)"
   ]
  },
  {
   "cell_type": "markdown",
   "id": "a6666772-eb4e-4240-bacc-bd9709545710",
   "metadata": {},
   "source": [
    "## Naming Columns"
   ]
  },
  {
   "cell_type": "code",
   "execution_count": 66,
   "id": "3698f301-820e-492f-83d8-98b76d8337c9",
   "metadata": {},
   "outputs": [],
   "source": [
    "headers = data_parse.columns\n",
    "eeg_cols = headers[8:1149] # specify based on what columns extracted\n",
    "age_col = headers[2]\n",
    "edu_col = headers[4] \n",
    "iq_col = headers[5]\n",
    "final_columns = [age_col] + [edu_col] + [iq_col] + list(eeg_cols) + [\"Class\"]"
   ]
  },
  {
   "cell_type": "markdown",
   "id": "eac1c348-1a6a-48af-aa37-ca29873410cc",
   "metadata": {},
   "source": [
    "## Extracting Data"
   ]
  },
  {
   "cell_type": "code",
   "execution_count": 68,
   "id": "3c4e35f4-0c7e-4854-8830-2c8fdc5d9a88",
   "metadata": {},
   "outputs": [],
   "source": [
    "total_data = []\n",
    "for i in range(0, 945):\n",
    "    if arr[i, 7] == str(\"Bipolar disorder\") and arr[i, 5] != \"NA\" and arr[i, 4] != \"NA\": #Specify disorder\n",
    "        row = [arr[i, 2], arr[i, 4], arr[i, 5]]  \n",
    "        for mood in range(8, 1149):\n",
    "            row.append(arr[i, mood])\n",
    "        row.append(\"1\")\n",
    "        total_data.append(row)\n",
    "\n",
    "for i in range(0, 945):\n",
    "    if arr[i, 7] == str(\"Healthy control\") and arr[i, 5] != \"NA\" and arr[i, 4] != \"NA\": #Specify disorder\n",
    "        row = [arr[i, 2], arr[i, 4], arr[i, 5]]  \n",
    "        for hc in range(8, 1149):\n",
    "            row.append(arr[i, hc])\n",
    "        row.append(\"0\")\n",
    "        total_data.append(row)\n",
    "# Build the DataFrame\n",
    "df = pd.DataFrame(total_data, columns=final_columns)\n",
    "iq_col = final_columns[2]\n",
    "edu_col = final_columns[1]\n",
    "for col in [edu_col, iq_col]:\n",
    "    df[col] = (\n",
    "        df[col]\n",
    "        .astype(str)\n",
    "        .str.strip()\n",
    "        .str.upper()\n",
    "        .replace(\"NA\", pd.NA)\n",
    "    )\n",
    "    df[col] = pd.to_numeric(df[col], errors=\"coerce\")\n",
    "    df = df.dropna(subset=[col])\n",
    "\n",
    "# Save to CSV\n",
    "df.to_csv(\"/home/novo/icr-2025-psych/AEIdisorderPSDFC.csv\", index=False)"
   ]
  }
 ],
 "metadata": {
  "kernelspec": {
   "display_name": "smotetry",
   "language": "python",
   "name": "smotetry"
  },
  "language_info": {
   "codemirror_mode": {
    "name": "ipython",
    "version": 3
   },
   "file_extension": ".py",
   "mimetype": "text/x-python",
   "name": "python",
   "nbconvert_exporter": "python",
   "pygments_lexer": "ipython3",
   "version": "3.11.13"
  }
 },
 "nbformat": 4,
 "nbformat_minor": 5
}
